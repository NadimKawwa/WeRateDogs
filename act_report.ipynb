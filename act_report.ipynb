{
 "cells": [
  {
   "cell_type": "markdown",
   "metadata": {},
   "source": [
    "# Act Report"
   ]
  },
  {
   "cell_type": "markdown",
   "metadata": {},
   "source": [
    "The objective of this report is to draw insights from the data wrangled in \"wrangle_act.ipynb\". "
   ]
  },
  {
   "cell_type": "code",
   "execution_count": 2,
   "metadata": {},
   "outputs": [],
   "source": [
    "import pandas as pd\n",
    "import numpy as np\n",
    "import matplotlib\n",
    "import matplotlib.pyplot as plt\n",
    "%matplotlib inline\n"
   ]
  },
  {
   "cell_type": "code",
   "execution_count": 3,
   "metadata": {},
   "outputs": [],
   "source": [
    "df_master = pd.read_csv('twitter_archive_master.csv')"
   ]
  },
  {
   "cell_type": "code",
   "execution_count": 4,
   "metadata": {},
   "outputs": [
    {
     "data": {
      "text/html": [
       "<div>\n",
       "<style>\n",
       "    .dataframe thead tr:only-child th {\n",
       "        text-align: right;\n",
       "    }\n",
       "\n",
       "    .dataframe thead th {\n",
       "        text-align: left;\n",
       "    }\n",
       "\n",
       "    .dataframe tbody tr th {\n",
       "        vertical-align: top;\n",
       "    }\n",
       "</style>\n",
       "<table border=\"1\" class=\"dataframe\">\n",
       "  <thead>\n",
       "    <tr style=\"text-align: right;\">\n",
       "      <th></th>\n",
       "      <th>tweet_id</th>\n",
       "      <th>source</th>\n",
       "      <th>text</th>\n",
       "      <th>expanded_urls</th>\n",
       "      <th>jpg_url</th>\n",
       "      <th>tweet_time</th>\n",
       "      <th>retweet</th>\n",
       "      <th>favorites</th>\n",
       "      <th>follows</th>\n",
       "      <th>stages</th>\n",
       "      <th>dog_prediction</th>\n",
       "      <th>conf_level</th>\n",
       "      <th>rating_numerator</th>\n",
       "      <th>rating_denominator</th>\n",
       "      <th>dog_count</th>\n",
       "      <th>dog_name</th>\n",
       "      <th>dog_gender</th>\n",
       "    </tr>\n",
       "  </thead>\n",
       "  <tbody>\n",
       "    <tr>\n",
       "      <th>0</th>\n",
       "      <td>667437278097252352</td>\n",
       "      <td>Twitter for iPhone</td>\n",
       "      <td>Never seen this breed before. Very pointy pup....</td>\n",
       "      <td>https://twitter.com/dog_rates/status/667437278...</td>\n",
       "      <td>https://pbs.twimg.com/media/CUM2qWaWoAUZ06L.jpg</td>\n",
       "      <td>2015-11-19 20:20:22</td>\n",
       "      <td>248.0</td>\n",
       "      <td>459.0</td>\n",
       "      <td>6903716.0</td>\n",
       "      <td>doggo</td>\n",
       "      <td>MysteryDog</td>\n",
       "      <td>0.000000</td>\n",
       "      <td>10.0</td>\n",
       "      <td>10.0</td>\n",
       "      <td>1.0</td>\n",
       "      <td>NaN</td>\n",
       "      <td>NaN</td>\n",
       "    </tr>\n",
       "    <tr>\n",
       "      <th>1</th>\n",
       "      <td>667443425659232256</td>\n",
       "      <td>Twitter for iPhone</td>\n",
       "      <td>Exotic dog here. Long neck. Weird paws. Obsess...</td>\n",
       "      <td>https://twitter.com/dog_rates/status/667443425...</td>\n",
       "      <td>https://pbs.twimg.com/media/CUM8QZwW4AAVsBl.jpg</td>\n",
       "      <td>2015-11-19 20:44:47</td>\n",
       "      <td>604.0</td>\n",
       "      <td>804.0</td>\n",
       "      <td>6903716.0</td>\n",
       "      <td>doggo</td>\n",
       "      <td>MysteryDog</td>\n",
       "      <td>0.000000</td>\n",
       "      <td>6.0</td>\n",
       "      <td>10.0</td>\n",
       "      <td>1.0</td>\n",
       "      <td>NaN</td>\n",
       "      <td>NaN</td>\n",
       "    </tr>\n",
       "    <tr>\n",
       "      <th>2</th>\n",
       "      <td>667453023279554560</td>\n",
       "      <td>Twitter Web Client</td>\n",
       "      <td>Meet Cupcake. I would do unspeakable things fo...</td>\n",
       "      <td>https://twitter.com/dog_rates/status/667453023...</td>\n",
       "      <td>https://pbs.twimg.com/media/CUNE_OSUwAAdHhX.jpg</td>\n",
       "      <td>2015-11-19 21:22:56</td>\n",
       "      <td>93.0</td>\n",
       "      <td>320.0</td>\n",
       "      <td>6903716.0</td>\n",
       "      <td>doggo</td>\n",
       "      <td>Labrador_retriever</td>\n",
       "      <td>0.825670</td>\n",
       "      <td>11.0</td>\n",
       "      <td>10.0</td>\n",
       "      <td>1.0</td>\n",
       "      <td>Cupcake</td>\n",
       "      <td>NaN</td>\n",
       "    </tr>\n",
       "    <tr>\n",
       "      <th>3</th>\n",
       "      <td>667455448082227200</td>\n",
       "      <td>Twitter Web Client</td>\n",
       "      <td>This is Reese and Twips. Reese protects Twips....</td>\n",
       "      <td>https://twitter.com/dog_rates/status/667455448...</td>\n",
       "      <td>https://pbs.twimg.com/media/CUNHMXTU8AAS3HH.jpg</td>\n",
       "      <td>2015-11-19 21:32:34</td>\n",
       "      <td>65.0</td>\n",
       "      <td>195.0</td>\n",
       "      <td>6903716.0</td>\n",
       "      <td>doggo</td>\n",
       "      <td>Tibetan_terrier</td>\n",
       "      <td>0.676376</td>\n",
       "      <td>7.0</td>\n",
       "      <td>10.0</td>\n",
       "      <td>1.0</td>\n",
       "      <td>Reese</td>\n",
       "      <td>NaN</td>\n",
       "    </tr>\n",
       "    <tr>\n",
       "      <th>4</th>\n",
       "      <td>667470559035432960</td>\n",
       "      <td>Twitter Web Client</td>\n",
       "      <td>This is a northern Wahoo named Kohl. He runs t...</td>\n",
       "      <td>https://twitter.com/dog_rates/status/667470559...</td>\n",
       "      <td>https://pbs.twimg.com/media/CUNU78YWEAECmpB.jpg</td>\n",
       "      <td>2015-11-19 22:32:36</td>\n",
       "      <td>101.0</td>\n",
       "      <td>264.0</td>\n",
       "      <td>6903716.0</td>\n",
       "      <td>doggo</td>\n",
       "      <td>toy_poodle</td>\n",
       "      <td>0.304175</td>\n",
       "      <td>11.0</td>\n",
       "      <td>10.0</td>\n",
       "      <td>1.0</td>\n",
       "      <td>Kohl</td>\n",
       "      <td>male</td>\n",
       "    </tr>\n",
       "  </tbody>\n",
       "</table>\n",
       "</div>"
      ],
      "text/plain": [
       "             tweet_id              source  \\\n",
       "0  667437278097252352  Twitter for iPhone   \n",
       "1  667443425659232256  Twitter for iPhone   \n",
       "2  667453023279554560  Twitter Web Client   \n",
       "3  667455448082227200  Twitter Web Client   \n",
       "4  667470559035432960  Twitter Web Client   \n",
       "\n",
       "                                                text  \\\n",
       "0  Never seen this breed before. Very pointy pup....   \n",
       "1  Exotic dog here. Long neck. Weird paws. Obsess...   \n",
       "2  Meet Cupcake. I would do unspeakable things fo...   \n",
       "3  This is Reese and Twips. Reese protects Twips....   \n",
       "4  This is a northern Wahoo named Kohl. He runs t...   \n",
       "\n",
       "                                       expanded_urls  \\\n",
       "0  https://twitter.com/dog_rates/status/667437278...   \n",
       "1  https://twitter.com/dog_rates/status/667443425...   \n",
       "2  https://twitter.com/dog_rates/status/667453023...   \n",
       "3  https://twitter.com/dog_rates/status/667455448...   \n",
       "4  https://twitter.com/dog_rates/status/667470559...   \n",
       "\n",
       "                                           jpg_url           tweet_time  \\\n",
       "0  https://pbs.twimg.com/media/CUM2qWaWoAUZ06L.jpg  2015-11-19 20:20:22   \n",
       "1  https://pbs.twimg.com/media/CUM8QZwW4AAVsBl.jpg  2015-11-19 20:44:47   \n",
       "2  https://pbs.twimg.com/media/CUNE_OSUwAAdHhX.jpg  2015-11-19 21:22:56   \n",
       "3  https://pbs.twimg.com/media/CUNHMXTU8AAS3HH.jpg  2015-11-19 21:32:34   \n",
       "4  https://pbs.twimg.com/media/CUNU78YWEAECmpB.jpg  2015-11-19 22:32:36   \n",
       "\n",
       "   retweet  favorites    follows stages      dog_prediction  conf_level  \\\n",
       "0    248.0      459.0  6903716.0  doggo          MysteryDog    0.000000   \n",
       "1    604.0      804.0  6903716.0  doggo          MysteryDog    0.000000   \n",
       "2     93.0      320.0  6903716.0  doggo  Labrador_retriever    0.825670   \n",
       "3     65.0      195.0  6903716.0  doggo     Tibetan_terrier    0.676376   \n",
       "4    101.0      264.0  6903716.0  doggo          toy_poodle    0.304175   \n",
       "\n",
       "   rating_numerator  rating_denominator  dog_count dog_name dog_gender  \n",
       "0              10.0                10.0        1.0      NaN        NaN  \n",
       "1               6.0                10.0        1.0      NaN        NaN  \n",
       "2              11.0                10.0        1.0  Cupcake        NaN  \n",
       "3               7.0                10.0        1.0    Reese        NaN  \n",
       "4              11.0                10.0        1.0     Kohl       male  "
      ]
     },
     "execution_count": 4,
     "metadata": {},
     "output_type": "execute_result"
    }
   ],
   "source": [
    "df_master.head()"
   ]
  },
  {
   "cell_type": "code",
   "execution_count": 5,
   "metadata": {},
   "outputs": [
    {
     "name": "stdout",
     "output_type": "stream",
     "text": [
      "<class 'pandas.core.frame.DataFrame'>\n",
      "RangeIndex: 2075 entries, 0 to 2074\n",
      "Data columns (total 17 columns):\n",
      "tweet_id              2075 non-null int64\n",
      "source                2075 non-null object\n",
      "text                  2075 non-null object\n",
      "expanded_urls         2075 non-null object\n",
      "jpg_url               2075 non-null object\n",
      "tweet_time            2069 non-null object\n",
      "retweet               2069 non-null float64\n",
      "favorites             2069 non-null float64\n",
      "follows               2069 non-null float64\n",
      "stages                2075 non-null object\n",
      "dog_prediction        2075 non-null object\n",
      "conf_level            2075 non-null float64\n",
      "rating_numerator      2074 non-null float64\n",
      "rating_denominator    2074 non-null float64\n",
      "dog_count             2075 non-null float64\n",
      "dog_name              1373 non-null object\n",
      "dog_gender            1397 non-null object\n",
      "dtypes: float64(7), int64(1), object(9)\n",
      "memory usage: 275.7+ KB\n"
     ]
    }
   ],
   "source": [
    "df_master.info()"
   ]
  },
  {
   "cell_type": "code",
   "execution_count": 6,
   "metadata": {},
   "outputs": [],
   "source": [
    "#We don't want to operate on tweet ID so turn it to object\n",
    "df_master['tweet_id'] = df_master['tweet_id'].astype(object)\n"
   ]
  },
  {
   "cell_type": "code",
   "execution_count": 7,
   "metadata": {},
   "outputs": [],
   "source": [
    "#Fix datetime format for tweet time\n",
    "df_master['tweet_time'] = pd.to_datetime(df_master.tweet_time)"
   ]
  },
  {
   "cell_type": "code",
   "execution_count": 8,
   "metadata": {},
   "outputs": [],
   "source": [
    "#Fix format for source\n",
    "df_master['source'] = df_master['source'].astype('category')\n",
    "#Fix format for dog state\n",
    "df_master['stages'] = df_master['stages'].astype('category')\n",
    "#Fix format for gender\n",
    "df_master['dog_gender'] = df_master['dog_gender'].astype('category')\n"
   ]
  },
  {
   "cell_type": "markdown",
   "metadata": {},
   "source": [
    "# Retweets and Favorites\n",
    "Evaluate the relationship between retweets and favorites."
   ]
  },
  {
   "cell_type": "code",
   "execution_count": 9,
   "metadata": {},
   "outputs": [
    {
     "data": {
      "text/plain": [
       "Text(0.5,1,'Favorites as a Function of Retweets')"
      ]
     },
     "execution_count": 9,
     "metadata": {},
     "output_type": "execute_result"
    },
    {
     "data": {
      "image/png": "[encoded data removed]",
      "text/plain": [
       "<matplotlib.figure.Figure at 0x7f519a753f28>"
      ]
     },
     "metadata": {},
     "output_type": "display_data"
    }
   ],
   "source": [
    "df_master.plot(x= 'retweet', y = 'favorites', kind='scatter', color='grey')\n",
    "plt.xlabel('Retweet Count')\n",
    "plt.ylabel('Favorites Count')\n",
    "plt.title('Favorites as a Function of Retweets')"
   ]
  },
  {
   "cell_type": "code",
   "execution_count": 10,
   "metadata": {},
   "outputs": [
    {
     "data": {
      "text/plain": [
       "Text(0.5,1,'Favorites as a Function of Retweets')"
      ]
     },
     "execution_count": 10,
     "metadata": {},
     "output_type": "execute_result"
    },
    {
     "data": {
      "image/png": "[encoded data removed]",
      "text/plain": [
       "<matplotlib.figure.Figure at 0x7f519aff5a20>"
      ]
     },
     "metadata": {},
     "output_type": "display_data"
    }
   ],
   "source": [
    "#Replot the above and set lmits on the axes\n",
    "df_master.plot(x= 'retweet', y = 'favorites', kind='scatter', color='grey', xlim=(0, 2e4), ylim=(0, 2e4))\n",
    "plt.xlabel('Retweet Count')\n",
    "plt.ylabel('Favorites Count')\n",
    "plt.title('Favorites as a Function of Retweets')\n"
   ]
  },
  {
   "cell_type": "code",
   "execution_count": 11,
   "metadata": {},
   "outputs": [
    {
     "data": {
      "text/plain": [
       "75"
      ]
     },
     "execution_count": 11,
     "metadata": {},
     "output_type": "execute_result"
    }
   ],
   "source": [
    "len(df_master[df_master['favorites'] == 0])"
   ]
  },
  {
   "cell_type": "markdown",
   "metadata": {},
   "source": [
    "There appears to be a positive correlation between retweets and favorites.\n",
    "There also seem to be many tweets with a lot of retweets but no favorites."
   ]
  },
  {
   "cell_type": "markdown",
   "metadata": {},
   "source": [
    "# Dog Gender\n",
    "Evualte the disribution of gender among the dogs. \n",
    "<br>Determine if one gender gets better ratings"
   ]
  },
  {
   "cell_type": "code",
   "execution_count": 16,
   "metadata": {},
   "outputs": [
    {
     "data": {
      "image/png": "[encoded data removed]",
      "text/plain": [
       "<matplotlib.figure.Figure at 0x7f519adc16d8>"
      ]
     },
     "metadata": {},
     "output_type": "display_data"
    }
   ],
   "source": [
    "#Pie chart is best representation\n",
    "#Ignore cases where gender is unclear or more than one dog\n",
    "df_master[df_master['dog_gender'].notnull()]['dog_gender'].value_counts().plot(kind = 'pie')\n",
    "plt.title('Dog Gender Distribution');"
   ]
  },
  {
   "cell_type": "code",
   "execution_count": 18,
   "metadata": {},
   "outputs": [
    {
     "data": {
      "text/plain": [
       "12.269396551724139"
      ]
     },
     "execution_count": 18,
     "metadata": {},
     "output_type": "execute_result"
    }
   ],
   "source": [
    "#Evaluate the mean rating for male dogs\n",
    "df_master[df_master['dog_gender'] == \"male\"]['rating_numerator'].mean()"
   ]
  },
  {
   "cell_type": "code",
   "execution_count": 19,
   "metadata": {},
   "outputs": [
    {
     "data": {
      "text/plain": [
       "11.242244318181818"
      ]
     },
     "execution_count": 19,
     "metadata": {},
     "output_type": "execute_result"
    }
   ],
   "source": [
    "#Evaluate the mean rating for female dogs\n",
    "df_master[df_master['dog_gender'] == \"female\"]['rating_numerator'].mean()"
   ]
  },
  {
   "cell_type": "markdown",
   "metadata": {},
   "source": [
    "It seems that males get higher ratings, see if the standard deviating is similar."
   ]
  },
  {
   "cell_type": "code",
   "execution_count": 29,
   "metadata": {},
   "outputs": [
    {
     "data": {
      "text/plain": [
       "54.650649853639635"
      ]
     },
     "execution_count": 29,
     "metadata": {},
     "output_type": "execute_result"
    }
   ],
   "source": [
    "np.std(df_master[df_master['dog_gender'] == \"male\"]['rating_numerator'])"
   ]
  },
  {
   "cell_type": "code",
   "execution_count": 30,
   "metadata": {},
   "outputs": [
    {
     "data": {
      "text/plain": [
       "1.5648089548914992"
      ]
     },
     "execution_count": 30,
     "metadata": {},
     "output_type": "execute_result"
    }
   ],
   "source": [
    "np.std(df_master[df_master['dog_gender'] == \"female\"]['rating_numerator'])"
   ]
  },
  {
   "cell_type": "markdown",
   "metadata": {},
   "source": [
    "The standard deviation varies immensly, maybe due to a few dogs with very high raitngs"
   ]
  },
  {
   "cell_type": "markdown",
   "metadata": {},
   "source": [
    "# Dog Stages"
   ]
  },
  {
   "cell_type": "code",
   "execution_count": 39,
   "metadata": {},
   "outputs": [
    {
     "name": "stderr",
     "output_type": "stream",
     "text": [
      "/opt/conda/lib/python3.6/site-packages/numpy/core/fromnumeric.py:57: FutureWarning: reshape is deprecated and will raise in a subsequent release. Please use .values.reshape(...) instead\n",
      "  return getattr(obj, method)(*args, **kwds)\n"
     ]
    },
    {
     "data": {
      "text/plain": [
       "<matplotlib.axes._subplots.AxesSubplot at 0x7f519a900cf8>"
      ]
     },
     "execution_count": 39,
     "metadata": {},
     "output_type": "execute_result"
    },
    {
     "data": {
      "image/png": "[encoded data removed]",
      "text/plain": [
       "<matplotlib.figure.Figure at 0x7f519a93e6a0>"
      ]
     },
     "metadata": {},
     "output_type": "display_data"
    }
   ],
   "source": [
    "df_master[df_master['rating_numerator'] <= 20].boxplot(column = ['rating_numerator'], by = ['stages'])\n"
   ]
  },
  {
   "cell_type": "code",
   "execution_count": 41,
   "metadata": {},
   "outputs": [
    {
     "data": {
      "image/png": "[encoded data removed]",
      "text/plain": [
       "<matplotlib.figure.Figure at 0x7f519a8b8e10>"
      ]
     },
     "metadata": {},
     "output_type": "display_data"
    }
   ],
   "source": [
    "df_master['stages'].value_counts().plot(kind = 'pie')\n",
    "plt.title('Dog Stages Distribution');"
   ]
  },
  {
   "cell_type": "markdown",
   "metadata": {},
   "source": [
    "The majority of dogs seem to be at floofer stage.\n",
    "<br> On average the rarest of the bunch, doggos, get the highest average ratings."
   ]
  },
  {
   "cell_type": "markdown",
   "metadata": {},
   "source": [
    "# Dog Breeds"
   ]
  },
  {
   "cell_type": "code",
   "execution_count": 48,
   "metadata": {},
   "outputs": [
    {
     "data": {
      "text/plain": [
       "<matplotlib.axes._subplots.AxesSubplot at 0x7f5198650588>"
      ]
     },
     "execution_count": 48,
     "metadata": {},
     "output_type": "execute_result"
    },
    {
     "data": {
      "image/png": "[encoded data removed]",
      "text/plain": [
       "<matplotlib.figure.Figure at 0x7f5198668cc0>"
      ]
     },
     "metadata": {},
     "output_type": "display_data"
    }
   ],
   "source": [
    "#Group the breeds with at least 20 instaces\n",
    "dog_breed_20=df_master.groupby('dog_prediction').filter(lambda x: len(x) >= 20)\n",
    "dog_breed_20 = dog_breed_20[dog_breed_20['dog_prediction'] != 'MysteryDog']\n",
    "dog_breed_20['dog_prediction'].value_counts().plot(kind = 'bar')\n"
   ]
  },
  {
   "cell_type": "code",
   "execution_count": 49,
   "metadata": {},
   "outputs": [
    {
     "data": {
      "text/html": [
       "<div>\n",
       "<style>\n",
       "    .dataframe thead tr:only-child th {\n",
       "        text-align: right;\n",
       "    }\n",
       "\n",
       "    .dataframe thead th {\n",
       "        text-align: left;\n",
       "    }\n",
       "\n",
       "    .dataframe tbody tr th {\n",
       "        vertical-align: top;\n",
       "    }\n",
       "</style>\n",
       "<table border=\"1\" class=\"dataframe\">\n",
       "  <thead>\n",
       "    <tr style=\"text-align: right;\">\n",
       "      <th></th>\n",
       "      <th>count</th>\n",
       "      <th>mean</th>\n",
       "      <th>std</th>\n",
       "      <th>min</th>\n",
       "      <th>25%</th>\n",
       "      <th>50%</th>\n",
       "      <th>75%</th>\n",
       "      <th>max</th>\n",
       "    </tr>\n",
       "    <tr>\n",
       "      <th>dog_prediction</th>\n",
       "      <th></th>\n",
       "      <th></th>\n",
       "      <th></th>\n",
       "      <th></th>\n",
       "      <th></th>\n",
       "      <th></th>\n",
       "      <th></th>\n",
       "      <th></th>\n",
       "    </tr>\n",
       "  </thead>\n",
       "  <tbody>\n",
       "    <tr>\n",
       "      <th>Cardigan</th>\n",
       "      <td>23.0</td>\n",
       "      <td>11.173913</td>\n",
       "      <td>1.527094</td>\n",
       "      <td>7.0</td>\n",
       "      <td>10.50</td>\n",
       "      <td>11.00</td>\n",
       "      <td>12.00</td>\n",
       "      <td>13.0</td>\n",
       "    </tr>\n",
       "    <tr>\n",
       "      <th>Chesapeake_Bay_retriever</th>\n",
       "      <td>31.0</td>\n",
       "      <td>10.741935</td>\n",
       "      <td>1.510358</td>\n",
       "      <td>8.0</td>\n",
       "      <td>10.00</td>\n",
       "      <td>10.00</td>\n",
       "      <td>12.00</td>\n",
       "      <td>13.0</td>\n",
       "    </tr>\n",
       "    <tr>\n",
       "      <th>Chihuahua</th>\n",
       "      <td>95.0</td>\n",
       "      <td>10.610526</td>\n",
       "      <td>2.078485</td>\n",
       "      <td>3.0</td>\n",
       "      <td>10.00</td>\n",
       "      <td>11.00</td>\n",
       "      <td>12.00</td>\n",
       "      <td>14.0</td>\n",
       "    </tr>\n",
       "    <tr>\n",
       "      <th>Eskimo_dog</th>\n",
       "      <td>22.0</td>\n",
       "      <td>11.409091</td>\n",
       "      <td>1.402688</td>\n",
       "      <td>9.0</td>\n",
       "      <td>10.00</td>\n",
       "      <td>12.00</td>\n",
       "      <td>12.00</td>\n",
       "      <td>14.0</td>\n",
       "    </tr>\n",
       "    <tr>\n",
       "      <th>French_bulldog</th>\n",
       "      <td>32.0</td>\n",
       "      <td>11.281250</td>\n",
       "      <td>1.835745</td>\n",
       "      <td>8.0</td>\n",
       "      <td>10.00</td>\n",
       "      <td>12.00</td>\n",
       "      <td>12.25</td>\n",
       "      <td>14.0</td>\n",
       "    </tr>\n",
       "    <tr>\n",
       "      <th>German_shepherd</th>\n",
       "      <td>21.0</td>\n",
       "      <td>11.000000</td>\n",
       "      <td>1.449138</td>\n",
       "      <td>8.0</td>\n",
       "      <td>10.00</td>\n",
       "      <td>11.00</td>\n",
       "      <td>12.00</td>\n",
       "      <td>13.0</td>\n",
       "    </tr>\n",
       "    <tr>\n",
       "      <th>Labrador_retriever</th>\n",
       "      <td>113.0</td>\n",
       "      <td>11.181416</td>\n",
       "      <td>1.317909</td>\n",
       "      <td>7.0</td>\n",
       "      <td>10.00</td>\n",
       "      <td>11.00</td>\n",
       "      <td>12.00</td>\n",
       "      <td>14.0</td>\n",
       "    </tr>\n",
       "    <tr>\n",
       "      <th>Pembroke</th>\n",
       "      <td>96.0</td>\n",
       "      <td>11.406250</td>\n",
       "      <td>1.744635</td>\n",
       "      <td>4.0</td>\n",
       "      <td>11.00</td>\n",
       "      <td>12.00</td>\n",
       "      <td>12.00</td>\n",
       "      <td>14.0</td>\n",
       "    </tr>\n",
       "    <tr>\n",
       "      <th>Pomeranian</th>\n",
       "      <td>42.0</td>\n",
       "      <td>10.779762</td>\n",
       "      <td>1.619435</td>\n",
       "      <td>6.0</td>\n",
       "      <td>10.00</td>\n",
       "      <td>11.00</td>\n",
       "      <td>12.00</td>\n",
       "      <td>14.0</td>\n",
       "    </tr>\n",
       "    <tr>\n",
       "      <th>Samoyed</th>\n",
       "      <td>46.0</td>\n",
       "      <td>11.717391</td>\n",
       "      <td>1.327706</td>\n",
       "      <td>7.0</td>\n",
       "      <td>11.00</td>\n",
       "      <td>12.00</td>\n",
       "      <td>13.00</td>\n",
       "      <td>14.0</td>\n",
       "    </tr>\n",
       "    <tr>\n",
       "      <th>Shih-Tzu</th>\n",
       "      <td>20.0</td>\n",
       "      <td>10.350000</td>\n",
       "      <td>1.308877</td>\n",
       "      <td>8.0</td>\n",
       "      <td>9.75</td>\n",
       "      <td>10.50</td>\n",
       "      <td>11.00</td>\n",
       "      <td>13.0</td>\n",
       "    </tr>\n",
       "    <tr>\n",
       "      <th>Siberian_husky</th>\n",
       "      <td>20.0</td>\n",
       "      <td>11.300000</td>\n",
       "      <td>1.128576</td>\n",
       "      <td>9.0</td>\n",
       "      <td>10.75</td>\n",
       "      <td>11.00</td>\n",
       "      <td>12.00</td>\n",
       "      <td>13.0</td>\n",
       "    </tr>\n",
       "    <tr>\n",
       "      <th>Staffordshire_bullterrier</th>\n",
       "      <td>22.0</td>\n",
       "      <td>10.863636</td>\n",
       "      <td>1.424127</td>\n",
       "      <td>8.0</td>\n",
       "      <td>10.00</td>\n",
       "      <td>11.00</td>\n",
       "      <td>12.00</td>\n",
       "      <td>13.0</td>\n",
       "    </tr>\n",
       "    <tr>\n",
       "      <th>beagle</th>\n",
       "      <td>21.0</td>\n",
       "      <td>10.238095</td>\n",
       "      <td>1.546116</td>\n",
       "      <td>6.0</td>\n",
       "      <td>10.00</td>\n",
       "      <td>10.00</td>\n",
       "      <td>11.00</td>\n",
       "      <td>13.0</td>\n",
       "    </tr>\n",
       "    <tr>\n",
       "      <th>chow</th>\n",
       "      <td>51.0</td>\n",
       "      <td>11.450980</td>\n",
       "      <td>1.361084</td>\n",
       "      <td>7.0</td>\n",
       "      <td>11.00</td>\n",
       "      <td>12.00</td>\n",
       "      <td>12.00</td>\n",
       "      <td>13.0</td>\n",
       "    </tr>\n",
       "    <tr>\n",
       "      <th>cocker_spaniel</th>\n",
       "      <td>34.0</td>\n",
       "      <td>11.441176</td>\n",
       "      <td>1.179141</td>\n",
       "      <td>9.0</td>\n",
       "      <td>11.00</td>\n",
       "      <td>11.75</td>\n",
       "      <td>12.00</td>\n",
       "      <td>13.0</td>\n",
       "    </tr>\n",
       "    <tr>\n",
       "      <th>golden_retriever</th>\n",
       "      <td>172.0</td>\n",
       "      <td>11.645349</td>\n",
       "      <td>1.161936</td>\n",
       "      <td>8.0</td>\n",
       "      <td>11.00</td>\n",
       "      <td>12.00</td>\n",
       "      <td>12.00</td>\n",
       "      <td>14.0</td>\n",
       "    </tr>\n",
       "    <tr>\n",
       "      <th>malamute</th>\n",
       "      <td>34.0</td>\n",
       "      <td>10.882353</td>\n",
       "      <td>1.200119</td>\n",
       "      <td>8.0</td>\n",
       "      <td>10.00</td>\n",
       "      <td>11.00</td>\n",
       "      <td>12.00</td>\n",
       "      <td>13.0</td>\n",
       "    </tr>\n",
       "    <tr>\n",
       "      <th>miniature_pinscher</th>\n",
       "      <td>26.0</td>\n",
       "      <td>10.076923</td>\n",
       "      <td>2.544375</td>\n",
       "      <td>2.0</td>\n",
       "      <td>9.25</td>\n",
       "      <td>11.00</td>\n",
       "      <td>12.00</td>\n",
       "      <td>12.0</td>\n",
       "    </tr>\n",
       "    <tr>\n",
       "      <th>pug</th>\n",
       "      <td>65.0</td>\n",
       "      <td>10.307692</td>\n",
       "      <td>1.802109</td>\n",
       "      <td>3.0</td>\n",
       "      <td>10.00</td>\n",
       "      <td>10.00</td>\n",
       "      <td>11.00</td>\n",
       "      <td>13.0</td>\n",
       "    </tr>\n",
       "    <tr>\n",
       "      <th>toy_poodle</th>\n",
       "      <td>52.0</td>\n",
       "      <td>11.057692</td>\n",
       "      <td>1.258905</td>\n",
       "      <td>7.0</td>\n",
       "      <td>10.00</td>\n",
       "      <td>11.00</td>\n",
       "      <td>12.00</td>\n",
       "      <td>13.0</td>\n",
       "    </tr>\n",
       "  </tbody>\n",
       "</table>\n",
       "</div>"
      ],
      "text/plain": [
       "                           count       mean       std  min    25%    50%  \\\n",
       "dog_prediction                                                             \n",
       "Cardigan                    23.0  11.173913  1.527094  7.0  10.50  11.00   \n",
       "Chesapeake_Bay_retriever    31.0  10.741935  1.510358  8.0  10.00  10.00   \n",
       "Chihuahua                   95.0  10.610526  2.078485  3.0  10.00  11.00   \n",
       "Eskimo_dog                  22.0  11.409091  1.402688  9.0  10.00  12.00   \n",
       "French_bulldog              32.0  11.281250  1.835745  8.0  10.00  12.00   \n",
       "German_shepherd             21.0  11.000000  1.449138  8.0  10.00  11.00   \n",
       "Labrador_retriever         113.0  11.181416  1.317909  7.0  10.00  11.00   \n",
       "Pembroke                    96.0  11.406250  1.744635  4.0  11.00  12.00   \n",
       "Pomeranian                  42.0  10.779762  1.619435  6.0  10.00  11.00   \n",
       "Samoyed                     46.0  11.717391  1.327706  7.0  11.00  12.00   \n",
       "Shih-Tzu                    20.0  10.350000  1.308877  8.0   9.75  10.50   \n",
       "Siberian_husky              20.0  11.300000  1.128576  9.0  10.75  11.00   \n",
       "Staffordshire_bullterrier   22.0  10.863636  1.424127  8.0  10.00  11.00   \n",
       "beagle                      21.0  10.238095  1.546116  6.0  10.00  10.00   \n",
       "chow                        51.0  11.450980  1.361084  7.0  11.00  12.00   \n",
       "cocker_spaniel              34.0  11.441176  1.179141  9.0  11.00  11.75   \n",
       "golden_retriever           172.0  11.645349  1.161936  8.0  11.00  12.00   \n",
       "malamute                    34.0  10.882353  1.200119  8.0  10.00  11.00   \n",
       "miniature_pinscher          26.0  10.076923  2.544375  2.0   9.25  11.00   \n",
       "pug                         65.0  10.307692  1.802109  3.0  10.00  10.00   \n",
       "toy_poodle                  52.0  11.057692  1.258905  7.0  10.00  11.00   \n",
       "\n",
       "                             75%   max  \n",
       "dog_prediction                          \n",
       "Cardigan                   12.00  13.0  \n",
       "Chesapeake_Bay_retriever   12.00  13.0  \n",
       "Chihuahua                  12.00  14.0  \n",
       "Eskimo_dog                 12.00  14.0  \n",
       "French_bulldog             12.25  14.0  \n",
       "German_shepherd            12.00  13.0  \n",
       "Labrador_retriever         12.00  14.0  \n",
       "Pembroke                   12.00  14.0  \n",
       "Pomeranian                 12.00  14.0  \n",
       "Samoyed                    13.00  14.0  \n",
       "Shih-Tzu                   11.00  13.0  \n",
       "Siberian_husky             12.00  13.0  \n",
       "Staffordshire_bullterrier  12.00  13.0  \n",
       "beagle                     11.00  13.0  \n",
       "chow                       12.00  13.0  \n",
       "cocker_spaniel             12.00  13.0  \n",
       "golden_retriever           12.00  14.0  \n",
       "malamute                   12.00  13.0  \n",
       "miniature_pinscher         12.00  12.0  \n",
       "pug                        11.00  13.0  \n",
       "toy_poodle                 12.00  13.0  "
      ]
     },
     "execution_count": 49,
     "metadata": {},
     "output_type": "execute_result"
    }
   ],
   "source": [
    "dog_breed_20.groupby('dog_prediction')['rating_numerator'].describe()\n"
   ]
  },
  {
   "cell_type": "markdown",
   "metadata": {},
   "source": [
    "The most common dog is the golden retriever, followed by the labrador retriever. These two breeds are very similar and retrievers are among the most popular breeds in the USA.\n",
    "<br>There is an inherent bias from the prediction algorithm, for example popular dog breeds might be very easy to identify.\n",
    "<br>\n",
    "<br>At a glance, the mean rating for the identifiable dog breeds is similar, varying in the 10-11 range."
   ]
  },
  {
   "cell_type": "code",
   "execution_count": null,
   "metadata": {},
   "outputs": [],
   "source": []
  }
 ],
 "metadata": {
  "kernelspec": {
   "display_name": "Python 3",
   "language": "python",
   "name": "python3"
  },
  "language_info": {
   "codemirror_mode": {
    "name": "ipython",
    "version": 3
   },
   "file_extension": ".py",
   "mimetype": "text/x-python",
   "name": "python",
   "nbconvert_exporter": "python",
   "pygments_lexer": "ipython3",
   "version": "3.6.3"
  }
 },
 "nbformat": 4,
 "nbformat_minor": 2
}
