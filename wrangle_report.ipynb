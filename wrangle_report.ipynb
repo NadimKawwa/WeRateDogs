{
 "cells": [
  {
   "cell_type": "markdown",
   "metadata": {},
   "source": [
    "# Wrangle Report"
   ]
  },
  {
   "cell_type": "markdown",
   "metadata": {},
   "source": [
    "The objective of this report is to describe the wrangling process for the we rate dogs data. The process is divided into three steps:\n",
    "-  Gather\n",
    "-  Assess\n",
    "-  Clean\n"
   ]
  },
  {
   "cell_type": "markdown",
   "metadata": {},
   "source": [
    "# Gather"
   ]
  },
  {
   "cell_type": "markdown",
   "metadata": {},
   "source": [
    "Three files are required for this step. \n",
    "-  The twitter archive is downloaded manually from a link and saved to the workbook space.\n",
    "-  The predictions file is hosted on Udacity’s servers and contains the output of a neural network that predicts dog breed. This one is downloaded programmatically by using the requests library.\n",
    "-  The JSON file is created using Twitter’s API. It contains the tweet ID, text, retweets, and other relevant data.\n"
   ]
  },
  {
   "cell_type": "markdown",
   "metadata": {},
   "source": [
    "# Assess"
   ]
  },
  {
   "cell_type": "markdown",
   "metadata": {},
   "source": [
    "After all files are gathered, the contents are evaluated. The first method is to display a random sample of the file. Other methods include looking at data types and maximum/minimum values."
   ]
  },
  {
   "cell_type": "markdown",
   "metadata": {},
   "source": [
    "## Quality\n",
    "For each folder some quality issues stand out. These are issues related to completness, accuracy, validity and consistency.\n"
   ]
  },
  {
   "cell_type": "markdown",
   "metadata": {},
   "source": [
    "### Quality issues from Twitter Archive:\n",
    "1. in_reply_to_status_id, in_reply_to_user_id, retweeted_status_id, andretweeted_status_user_id should be integers.\n",
    "2. timestamp should have date time attribute\n",
    "3. Numerator/Denominator values look incorrect.\n",
    "4. The dog types should have NaN instead of None\n",
    "5. Some tweets have no dog names (a, the) and might be a retweet "
   ]
  },
  {
   "cell_type": "markdown",
   "metadata": {},
   "source": [
    "### Quality issues from Image Predictions\n",
    "\n",
    "6. 2075 rows in images versus 2356 in the twitter archive\n",
    "7. Some jpgs are repeated"
   ]
  },
  {
   "cell_type": "markdown",
   "metadata": {},
   "source": [
    "### Quality issues in JSON tweets\n",
    "8. Some tweets are repeated."
   ]
  },
  {
   "cell_type": "markdown",
   "metadata": {},
   "source": [
    "## Tidiness\n",
    "Tidiness is related to the presentation of the data\n",
    "1. All tables should be made into one dataset\n",
    "2. Dog stages should be in one column"
   ]
  },
  {
   "cell_type": "markdown",
   "metadata": {},
   "source": [
    "# Clean"
   ]
  },
  {
   "cell_type": "markdown",
   "metadata": {},
   "source": [
    "The quality and tidiness issues listed in the previous section are addressed by programatic and sometimes manual methods. The first step was to merge all folders into one data with the tweet ID as the primary key. \n",
    "<br> For this step is is always useful to work outisde the main dataframe by creating copies or arrays before modifying the contents. "
   ]
  },
  {
   "cell_type": "markdown",
   "metadata": {},
   "source": [
    "# Conclusion"
   ]
  },
  {
   "cell_type": "markdown",
   "metadata": {},
   "source": [
    "The data needed for analyzing is often located somewhere else and in an ufamiliar format. Our objective is to extract, assess, and clean it for our use. In some instances it is made easy by the host's API. After gathering the data, exploration is useful to identify quality and tidiness issues. Finally, the data is cleaned based on the latter step.\n",
    "<br> In order for the results to be valid, the steps must be reproducible for users who come after us. It is also useful to work on copies of the main dataframe before modifying."
   ]
  },
  {
   "cell_type": "code",
   "execution_count": null,
   "metadata": {},
   "outputs": [],
   "source": []
  }
 ],
 "metadata": {
  "kernelspec": {
   "display_name": "Python 3",
   "language": "python",
   "name": "python3"
  },
  "language_info": {
   "codemirror_mode": {
    "name": "ipython",
    "version": 3
   },
   "file_extension": ".py",
   "mimetype": "text/x-python",
   "name": "python",
   "nbconvert_exporter": "python",
   "pygments_lexer": "ipython3",
   "version": "3.6.3"
  }
 },
 "nbformat": 4,
 "nbformat_minor": 2
}
